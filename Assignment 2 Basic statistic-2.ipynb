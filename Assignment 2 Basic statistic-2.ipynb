{
 "cells": [
  {
   "cell_type": "markdown",
   "id": "4cdec61a",
   "metadata": {},
   "source": [
    "# Q1)Look at the data given below. Plot the data, find the outliers and find out  "
   ]
  },
  {
   "cell_type": "code",
   "execution_count": 2,
   "id": "b99746ab",
   "metadata": {
    "scrolled": true
   },
   "outputs": [
    {
     "data": {
      "text/html": [
       "<div>\n",
       "<style scoped>\n",
       "    .dataframe tbody tr th:only-of-type {\n",
       "        vertical-align: middle;\n",
       "    }\n",
       "\n",
       "    .dataframe tbody tr th {\n",
       "        vertical-align: top;\n",
       "    }\n",
       "\n",
       "    .dataframe thead th {\n",
       "        text-align: right;\n",
       "    }\n",
       "</style>\n",
       "<table border=\"1\" class=\"dataframe\">\n",
       "  <thead>\n",
       "    <tr style=\"text-align: right;\">\n",
       "      <th></th>\n",
       "      <th>Name of company</th>\n",
       "      <th>Measure X</th>\n",
       "    </tr>\n",
       "  </thead>\n",
       "  <tbody>\n",
       "    <tr>\n",
       "      <th>0</th>\n",
       "      <td>Allied Signal</td>\n",
       "      <td>24.23</td>\n",
       "    </tr>\n",
       "    <tr>\n",
       "      <th>1</th>\n",
       "      <td>Bankers Trust</td>\n",
       "      <td>25.53</td>\n",
       "    </tr>\n",
       "    <tr>\n",
       "      <th>2</th>\n",
       "      <td>General Mills</td>\n",
       "      <td>25.41</td>\n",
       "    </tr>\n",
       "    <tr>\n",
       "      <th>3</th>\n",
       "      <td>ITT Industries</td>\n",
       "      <td>24.14</td>\n",
       "    </tr>\n",
       "    <tr>\n",
       "      <th>4</th>\n",
       "      <td>J.P.Morgan &amp; Co.</td>\n",
       "      <td>29.62</td>\n",
       "    </tr>\n",
       "    <tr>\n",
       "      <th>5</th>\n",
       "      <td>Lehman Brothers</td>\n",
       "      <td>28.25</td>\n",
       "    </tr>\n",
       "    <tr>\n",
       "      <th>6</th>\n",
       "      <td>Marriott</td>\n",
       "      <td>25.81</td>\n",
       "    </tr>\n",
       "    <tr>\n",
       "      <th>7</th>\n",
       "      <td>MCI</td>\n",
       "      <td>24.39</td>\n",
       "    </tr>\n",
       "    <tr>\n",
       "      <th>8</th>\n",
       "      <td>Merrill Lynch</td>\n",
       "      <td>40.26</td>\n",
       "    </tr>\n",
       "    <tr>\n",
       "      <th>9</th>\n",
       "      <td>Microsoft</td>\n",
       "      <td>32.95</td>\n",
       "    </tr>\n",
       "    <tr>\n",
       "      <th>10</th>\n",
       "      <td>Morgan Stanley</td>\n",
       "      <td>91.36</td>\n",
       "    </tr>\n",
       "    <tr>\n",
       "      <th>11</th>\n",
       "      <td>Sun Microsystems</td>\n",
       "      <td>25.99</td>\n",
       "    </tr>\n",
       "    <tr>\n",
       "      <th>12</th>\n",
       "      <td>Travelers</td>\n",
       "      <td>39.42</td>\n",
       "    </tr>\n",
       "    <tr>\n",
       "      <th>13</th>\n",
       "      <td>US Airways</td>\n",
       "      <td>26.71</td>\n",
       "    </tr>\n",
       "    <tr>\n",
       "      <th>14</th>\n",
       "      <td>Warner-Lambert</td>\n",
       "      <td>35.00</td>\n",
       "    </tr>\n",
       "  </tbody>\n",
       "</table>\n",
       "</div>"
      ],
      "text/plain": [
       "     Name of company  Measure X\n",
       "0      Allied Signal      24.23\n",
       "1      Bankers Trust      25.53\n",
       "2      General Mills      25.41\n",
       "3     ITT Industries      24.14\n",
       "4   J.P.Morgan & Co.      29.62\n",
       "5    Lehman Brothers      28.25\n",
       "6           Marriott      25.81\n",
       "7                MCI      24.39\n",
       "8      Merrill Lynch      40.26\n",
       "9          Microsoft      32.95\n",
       "10    Morgan Stanley      91.36\n",
       "11  Sun Microsystems      25.99\n",
       "12         Travelers      39.42\n",
       "13        US Airways      26.71\n",
       "14    Warner-Lambert      35.00"
      ]
     },
     "execution_count": 2,
     "metadata": {},
     "output_type": "execute_result"
    }
   ],
   "source": [
    "import pandas as pd\n",
    "\n",
    "data = {\n",
    "    'Name of company': ['Allied Signal', 'Bankers Trust', 'General Mills', 'ITT Industries', 'J.P.Morgan & Co.',\n",
    "                        'Lehman Brothers', 'Marriott', 'MCI', 'Merrill Lynch', 'Microsoft', 'Morgan Stanley',\n",
    "                        'Sun Microsystems', 'Travelers', 'US Airways', 'Warner-Lambert'],\n",
    "    'Measure X': [24.23, 25.53, 25.41, 24.14, 29.62, 28.25, 25.81, 24.39, 40.26, 32.95, 91.36, 25.99, 39.42, 26.71, 35.00]\n",
    "}\n",
    "\n",
    "df = pd.DataFrame(data)\n",
    "df\n"
   ]
  },
  {
   "cell_type": "code",
   "execution_count": 8,
   "id": "a0bbf628",
   "metadata": {
    "scrolled": true
   },
   "outputs": [
    {
     "data": {
      "text/html": [
       "<div>\n",
       "<style scoped>\n",
       "    .dataframe tbody tr th:only-of-type {\n",
       "        vertical-align: middle;\n",
       "    }\n",
       "\n",
       "    .dataframe tbody tr th {\n",
       "        vertical-align: top;\n",
       "    }\n",
       "\n",
       "    .dataframe thead th {\n",
       "        text-align: right;\n",
       "    }\n",
       "</style>\n",
       "<table border=\"1\" class=\"dataframe\">\n",
       "  <thead>\n",
       "    <tr style=\"text-align: right;\">\n",
       "      <th></th>\n",
       "      <th>Name of company</th>\n",
       "      <th>Measure_x</th>\n",
       "    </tr>\n",
       "  </thead>\n",
       "  <tbody>\n",
       "    <tr>\n",
       "      <th>0</th>\n",
       "      <td>Allied Signal</td>\n",
       "      <td>24.23</td>\n",
       "    </tr>\n",
       "    <tr>\n",
       "      <th>1</th>\n",
       "      <td>Bankers Trust</td>\n",
       "      <td>25.53</td>\n",
       "    </tr>\n",
       "    <tr>\n",
       "      <th>2</th>\n",
       "      <td>General Mills</td>\n",
       "      <td>25.41</td>\n",
       "    </tr>\n",
       "    <tr>\n",
       "      <th>3</th>\n",
       "      <td>ITT Industries</td>\n",
       "      <td>24.14</td>\n",
       "    </tr>\n",
       "    <tr>\n",
       "      <th>4</th>\n",
       "      <td>J.P.Morgan &amp; Co.</td>\n",
       "      <td>29.62</td>\n",
       "    </tr>\n",
       "    <tr>\n",
       "      <th>5</th>\n",
       "      <td>Lehman Brothers</td>\n",
       "      <td>28.25</td>\n",
       "    </tr>\n",
       "    <tr>\n",
       "      <th>6</th>\n",
       "      <td>Marriott</td>\n",
       "      <td>25.81</td>\n",
       "    </tr>\n",
       "    <tr>\n",
       "      <th>7</th>\n",
       "      <td>MCI</td>\n",
       "      <td>24.39</td>\n",
       "    </tr>\n",
       "    <tr>\n",
       "      <th>8</th>\n",
       "      <td>Merrill Lynch</td>\n",
       "      <td>40.26</td>\n",
       "    </tr>\n",
       "    <tr>\n",
       "      <th>9</th>\n",
       "      <td>Microsoft</td>\n",
       "      <td>32.95</td>\n",
       "    </tr>\n",
       "    <tr>\n",
       "      <th>10</th>\n",
       "      <td>Morgan Stanley</td>\n",
       "      <td>91.36</td>\n",
       "    </tr>\n",
       "    <tr>\n",
       "      <th>11</th>\n",
       "      <td>Sun Microsystems</td>\n",
       "      <td>25.99</td>\n",
       "    </tr>\n",
       "    <tr>\n",
       "      <th>12</th>\n",
       "      <td>Travelers</td>\n",
       "      <td>39.42</td>\n",
       "    </tr>\n",
       "    <tr>\n",
       "      <th>13</th>\n",
       "      <td>US Airways</td>\n",
       "      <td>26.71</td>\n",
       "    </tr>\n",
       "    <tr>\n",
       "      <th>14</th>\n",
       "      <td>Warner-Lambert</td>\n",
       "      <td>35.00</td>\n",
       "    </tr>\n",
       "  </tbody>\n",
       "</table>\n",
       "</div>"
      ],
      "text/plain": [
       "     Name of company  Measure_x\n",
       "0      Allied Signal      24.23\n",
       "1      Bankers Trust      25.53\n",
       "2      General Mills      25.41\n",
       "3     ITT Industries      24.14\n",
       "4   J.P.Morgan & Co.      29.62\n",
       "5    Lehman Brothers      28.25\n",
       "6           Marriott      25.81\n",
       "7                MCI      24.39\n",
       "8      Merrill Lynch      40.26\n",
       "9          Microsoft      32.95\n",
       "10    Morgan Stanley      91.36\n",
       "11  Sun Microsystems      25.99\n",
       "12         Travelers      39.42\n",
       "13        US Airways      26.71\n",
       "14    Warner-Lambert      35.00"
      ]
     },
     "execution_count": 8,
     "metadata": {},
     "output_type": "execute_result"
    }
   ],
   "source": [
    "column_mapping={'Measure X' : 'Measure_x'}\n",
    "df.rename(columns=column_mapping, inplace=True)\n",
    "df"
   ]
  },
  {
   "cell_type": "code",
   "execution_count": 11,
   "id": "9ce233d5",
   "metadata": {
    "scrolled": true
   },
   "outputs": [
    {
     "data": {
      "text/html": [
       "<div>\n",
       "<style scoped>\n",
       "    .dataframe tbody tr th:only-of-type {\n",
       "        vertical-align: middle;\n",
       "    }\n",
       "\n",
       "    .dataframe tbody tr th {\n",
       "        vertical-align: top;\n",
       "    }\n",
       "\n",
       "    .dataframe thead th {\n",
       "        text-align: right;\n",
       "    }\n",
       "</style>\n",
       "<table border=\"1\" class=\"dataframe\">\n",
       "  <thead>\n",
       "    <tr style=\"text-align: right;\">\n",
       "      <th></th>\n",
       "      <th>Measure_x</th>\n",
       "    </tr>\n",
       "  </thead>\n",
       "  <tbody>\n",
       "    <tr>\n",
       "      <th>count</th>\n",
       "      <td>15.000000</td>\n",
       "    </tr>\n",
       "    <tr>\n",
       "      <th>mean</th>\n",
       "      <td>33.271333</td>\n",
       "    </tr>\n",
       "    <tr>\n",
       "      <th>std</th>\n",
       "      <td>16.945401</td>\n",
       "    </tr>\n",
       "    <tr>\n",
       "      <th>min</th>\n",
       "      <td>24.140000</td>\n",
       "    </tr>\n",
       "    <tr>\n",
       "      <th>25%</th>\n",
       "      <td>25.470000</td>\n",
       "    </tr>\n",
       "    <tr>\n",
       "      <th>50%</th>\n",
       "      <td>26.710000</td>\n",
       "    </tr>\n",
       "    <tr>\n",
       "      <th>75%</th>\n",
       "      <td>33.975000</td>\n",
       "    </tr>\n",
       "    <tr>\n",
       "      <th>max</th>\n",
       "      <td>91.360000</td>\n",
       "    </tr>\n",
       "  </tbody>\n",
       "</table>\n",
       "</div>"
      ],
      "text/plain": [
       "       Measure_x\n",
       "count  15.000000\n",
       "mean   33.271333\n",
       "std    16.945401\n",
       "min    24.140000\n",
       "25%    25.470000\n",
       "50%    26.710000\n",
       "75%    33.975000\n",
       "max    91.360000"
      ]
     },
     "execution_count": 11,
     "metadata": {},
     "output_type": "execute_result"
    }
   ],
   "source": [
    "df.describe()"
   ]
  },
  {
   "cell_type": "code",
   "execution_count": 13,
   "id": "375214db",
   "metadata": {},
   "outputs": [
    {
     "data": {
      "text/plain": [
       "286.96360000000004"
      ]
     },
     "execution_count": 13,
     "metadata": {},
     "output_type": "execute_result"
    }
   ],
   "source": [
    "std=16.94\n",
    "var=std**2\n",
    "var\n"
   ]
  },
  {
   "cell_type": "code",
   "execution_count": 4,
   "id": "55e911c4",
   "metadata": {},
   "outputs": [],
   "source": [
    "import matplotlib.pyplot as plt"
   ]
  },
  {
   "cell_type": "code",
   "execution_count": 9,
   "id": "e55cb1ee",
   "metadata": {},
   "outputs": [
    {
     "data": {
      "text/plain": [
       "{'whiskers': [<matplotlib.lines.Line2D at 0x138dc1cc9d0>,\n",
       "  <matplotlib.lines.Line2D at 0x138dc1ccca0>],\n",
       " 'caps': [<matplotlib.lines.Line2D at 0x138dc1ccf70>,\n",
       "  <matplotlib.lines.Line2D at 0x138dc1e3280>],\n",
       " 'boxes': [<matplotlib.lines.Line2D at 0x138dc1cc700>],\n",
       " 'medians': [<matplotlib.lines.Line2D at 0x138dc1e3550>],\n",
       " 'fliers': [<matplotlib.lines.Line2D at 0x138dc1e3820>],\n",
       " 'means': []}"
      ]
     },
     "execution_count": 9,
     "metadata": {},
     "output_type": "execute_result"
    },
    {
     "data": {
      "image/png": "[encoded data removed]",
      "text/plain": [
       "<Figure size 640x480 with 1 Axes>"
      ]
     },
     "metadata": {},
     "output_type": "display_data"
    }
   ],
   "source": [
    "plt.boxplot(df.Measure_x)"
   ]
  },
  {
   "cell_type": "code",
   "execution_count": null,
   "id": "133a0b5d",
   "metadata": {},
   "outputs": [],
   "source": [
    "#from above boxplot we can see that value 91.36 is an outlier "
   ]
  },
  {
   "cell_type": "markdown",
   "id": "37e86367",
   "metadata": {},
   "source": [
    "# Q4)"
   ]
  },
  {
   "cell_type": "code",
   "execution_count": 17,
   "id": "c02983c0",
   "metadata": {},
   "outputs": [
    {
     "name": "stdout",
     "output_type": "stream",
     "text": [
      "Probability of at least one misdirected call in five attempts: 0.02475124687812502\n"
     ]
    }
   ],
   "source": [
    "def probability_no_misdirected_calls(p_success, num_attempts):\n",
    "\n",
    "    p_no_misdirected_calls = (1 - p_success) ** num_attempts\n",
    "    return p_no_misdirected_calls\n",
    "\n",
    "def probability_at_least_one_misdirected_call(p_success, num_attempts):\n",
    "\n",
    "    p_at_least_one_misdirected_call = 1 - probability_no_misdirected_calls(p_success, num_attempts)\n",
    "    return p_at_least_one_misdirected_call\n",
    "\n",
    "\n",
    "p_success = 1 / 200  \n",
    "num_attempts = 5  \n",
    "\n",
    "\n",
    "result = probability_at_least_one_misdirected_call(p_success_per_attempt, num_attempts)\n",
    "print(\"Probability of at least one misdirected call in five attempts:\", result)\n"
   ]
  },
  {
   "cell_type": "markdown",
   "id": "153635b6",
   "metadata": {},
   "source": [
    "# Q5)"
   ]
  },
  {
   "cell_type": "code",
   "execution_count": 21,
   "id": "3831dee1",
   "metadata": {},
   "outputs": [
    {
     "data": {
      "text/html": [
       "<div>\n",
       "<style scoped>\n",
       "    .dataframe tbody tr th:only-of-type {\n",
       "        vertical-align: middle;\n",
       "    }\n",
       "\n",
       "    .dataframe tbody tr th {\n",
       "        vertical-align: top;\n",
       "    }\n",
       "\n",
       "    .dataframe thead th {\n",
       "        text-align: right;\n",
       "    }\n",
       "</style>\n",
       "<table border=\"1\" class=\"dataframe\">\n",
       "  <thead>\n",
       "    <tr style=\"text-align: right;\">\n",
       "      <th></th>\n",
       "      <th>Outcomes</th>\n",
       "      <th>Probabilities</th>\n",
       "    </tr>\n",
       "  </thead>\n",
       "  <tbody>\n",
       "    <tr>\n",
       "      <th>0</th>\n",
       "      <td>-2000</td>\n",
       "      <td>0.1</td>\n",
       "    </tr>\n",
       "    <tr>\n",
       "      <th>1</th>\n",
       "      <td>-1000</td>\n",
       "      <td>0.1</td>\n",
       "    </tr>\n",
       "    <tr>\n",
       "      <th>2</th>\n",
       "      <td>0</td>\n",
       "      <td>0.2</td>\n",
       "    </tr>\n",
       "    <tr>\n",
       "      <th>3</th>\n",
       "      <td>1000</td>\n",
       "      <td>0.2</td>\n",
       "    </tr>\n",
       "    <tr>\n",
       "      <th>4</th>\n",
       "      <td>2000</td>\n",
       "      <td>0.3</td>\n",
       "    </tr>\n",
       "    <tr>\n",
       "      <th>5</th>\n",
       "      <td>3000</td>\n",
       "      <td>0.1</td>\n",
       "    </tr>\n",
       "  </tbody>\n",
       "</table>\n",
       "</div>"
      ],
      "text/plain": [
       "   Outcomes  Probabilities\n",
       "0     -2000            0.1\n",
       "1     -1000            0.1\n",
       "2         0            0.2\n",
       "3      1000            0.2\n",
       "4      2000            0.3\n",
       "5      3000            0.1"
      ]
     },
     "execution_count": 21,
     "metadata": {},
     "output_type": "execute_result"
    }
   ],
   "source": [
    "outcomes = [-2000, -1000, 0, 1000, 2000, 3000]\n",
    "probabilities = [0.1, 0.1, 0.2, 0.2, 0.3, 0.1]\n",
    "\n",
    "Data={'Outcomes': outcomes, 'Probabilities': probabilities}\n",
    "Df=pd.DataFrame(Data)\n",
    "Df"
   ]
  },
  {
   "cell_type": "code",
   "execution_count": 22,
   "id": "df5c4968",
   "metadata": {},
   "outputs": [
    {
     "data": {
      "text/html": [
       "<div>\n",
       "<style scoped>\n",
       "    .dataframe tbody tr th:only-of-type {\n",
       "        vertical-align: middle;\n",
       "    }\n",
       "\n",
       "    .dataframe tbody tr th {\n",
       "        vertical-align: top;\n",
       "    }\n",
       "\n",
       "    .dataframe thead th {\n",
       "        text-align: right;\n",
       "    }\n",
       "</style>\n",
       "<table border=\"1\" class=\"dataframe\">\n",
       "  <thead>\n",
       "    <tr style=\"text-align: right;\">\n",
       "      <th></th>\n",
       "      <th>Outcomes</th>\n",
       "      <th>Probabilities</th>\n",
       "    </tr>\n",
       "  </thead>\n",
       "  <tbody>\n",
       "    <tr>\n",
       "      <th>count</th>\n",
       "      <td>6.000000</td>\n",
       "      <td>6.000000</td>\n",
       "    </tr>\n",
       "    <tr>\n",
       "      <th>mean</th>\n",
       "      <td>500.000000</td>\n",
       "      <td>0.166667</td>\n",
       "    </tr>\n",
       "    <tr>\n",
       "      <th>std</th>\n",
       "      <td>1870.828693</td>\n",
       "      <td>0.081650</td>\n",
       "    </tr>\n",
       "    <tr>\n",
       "      <th>min</th>\n",
       "      <td>-2000.000000</td>\n",
       "      <td>0.100000</td>\n",
       "    </tr>\n",
       "    <tr>\n",
       "      <th>25%</th>\n",
       "      <td>-750.000000</td>\n",
       "      <td>0.100000</td>\n",
       "    </tr>\n",
       "    <tr>\n",
       "      <th>50%</th>\n",
       "      <td>500.000000</td>\n",
       "      <td>0.150000</td>\n",
       "    </tr>\n",
       "    <tr>\n",
       "      <th>75%</th>\n",
       "      <td>1750.000000</td>\n",
       "      <td>0.200000</td>\n",
       "    </tr>\n",
       "    <tr>\n",
       "      <th>max</th>\n",
       "      <td>3000.000000</td>\n",
       "      <td>0.300000</td>\n",
       "    </tr>\n",
       "  </tbody>\n",
       "</table>\n",
       "</div>"
      ],
      "text/plain": [
       "          Outcomes  Probabilities\n",
       "count     6.000000       6.000000\n",
       "mean    500.000000       0.166667\n",
       "std    1870.828693       0.081650\n",
       "min   -2000.000000       0.100000\n",
       "25%    -750.000000       0.100000\n",
       "50%     500.000000       0.150000\n",
       "75%    1750.000000       0.200000\n",
       "max    3000.000000       0.300000"
      ]
     },
     "execution_count": 22,
     "metadata": {},
     "output_type": "execute_result"
    }
   ],
   "source": [
    "Df.describe()"
   ]
  },
  {
   "cell_type": "markdown",
   "id": "3b2752c4",
   "metadata": {},
   "source": [
    "# Q1)Basic statistic 2"
   ]
  },
  {
   "cell_type": "code",
   "execution_count": 1,
   "id": "525ec2df",
   "metadata": {},
   "outputs": [
    {
     "name": "stdout",
     "output_type": "stream",
     "text": [
      "Probability that the service manager cannot meet his commitment: 0.030396361765261393\n"
     ]
    }
   ],
   "source": [
    "import scipy.stats as stats\n",
    "\n",
    "mu = 45  \n",
    "sigma = 8    \n",
    "commitment_time = 60  \n",
    "\n",
    "probability_cannot_meet_commitment = 1 - stats.norm.cdf(commitment_time, mu,sigma)\n",
    "\n",
    "\n",
    "print(\"Probability that the service manager cannot meet his commitment:\", probability_cannot_meet_commitment)\n"
   ]
  },
  {
   "cell_type": "markdown",
   "id": "ed3ef63e",
   "metadata": {},
   "source": [
    "# Q2)Basic statistic 2"
   ]
  },
  {
   "cell_type": "code",
   "execution_count": 35,
   "id": "3719d9e2",
   "metadata": {},
   "outputs": [
    {
     "name": "stdout",
     "output_type": "stream",
     "text": [
      "A. More employees at the processing center are older than 44 than between 38 and 44: False\n",
      "B. A training program for employees under the age of 30 at the center would be expected to attract about 36 employees.\n"
     ]
    }
   ],
   "source": [
    "mu = 38\n",
    "sigma = 6\n",
    "\n",
    "age_44 = 1- stats.norm.cdf(44, loc=mu, scale=sigma)\n",
    "\n",
    "age_30 = stats.norm.cdf(30, loc=mu, scale=sigma)\n",
    "\n",
    "# Calculate the number of employees under the age of 30 (total employees * probability of being under 30)\n",
    "total_employees = 400\n",
    "num_employees_under_30 = total_employees * age_30\n",
    "\n",
    "print(\"A. More employees at the processing center are older than 44 than between 38 and 44:\", age_44 > 0.5)\n",
    "print(\"B. A training program for employees under the age of 30 at the center would be expected to attract about\", round(num_employees_under_30), \"employees.\")\n"
   ]
  },
  {
   "cell_type": "markdown",
   "id": "75a805ec",
   "metadata": {},
   "source": [
    "# Q3)Basic statistic 2"
   ]
  },
  {
   "cell_type": "code",
   "execution_count": 49,
   "id": "098edea7",
   "metadata": {},
   "outputs": [
    {
     "data": {
      "image/png": "[encoded data removed]",
      "text/plain": [
       "<Figure size 1000x600 with 2 Axes>"
      ]
     },
     "metadata": {},
     "output_type": "display_data"
    }
   ],
   "source": [
    "import numpy as np\n",
    "μ = 5\n",
    "σ = 2\n",
    "\n",
    "X1_samples = np.random.normal(μ, σ, 1000)\n",
    "X2_samples = np.random.normal(μ, σ, 1000)\n",
    "\n",
    "two_X1 = 2 * X1_samples\n",
    "X1_plus_X2 = X1_samples + X2_samples\n",
    "\n",
    "\n",
    "plt.figure(figsize=(10, 6))\n",
    "\n",
    "plt.subplot(2, 1,1)\n",
    "plt.hist(two_X1, bins=50,  color='b')\n",
    "plt.title('Distribution of 2X1')\n",
    "plt.xlabel('Value')\n",
    "plt.ylabel('Probability Density')\n",
    "plt.grid()\n",
    "\n",
    "plt.subplot(2,1, 2)\n",
    "plt.hist(X1_plus_X2, bins=50, color='g')\n",
    "plt.title('Distribution of X1 + X2')\n",
    "plt.xlabel('Value')\n",
    "plt.ylabel('Probability Density')\n",
    "plt.grid()\n",
    "\n",
    "\n",
    "plt.show()\n"
   ]
  },
  {
   "cell_type": "markdown",
   "id": "a6377058",
   "metadata": {},
   "source": [
    "# Q4)Basic statistic 2"
   ]
  },
  {
   "cell_type": "code",
   "execution_count": 50,
   "id": "2caafb30",
   "metadata": {},
   "outputs": [
    {
     "data": {
      "text/plain": [
       "(48.48341392902199, 151.516586070978)"
      ]
     },
     "execution_count": 50,
     "metadata": {},
     "output_type": "execute_result"
    }
   ],
   "source": [
    "stats.norm.interval(0.99,100,20)"
   ]
  },
  {
   "cell_type": "markdown",
   "id": "d1266e02",
   "metadata": {},
   "source": [
    "# Q5)Basic statistic 2"
   ]
  },
  {
   "cell_type": "code",
   "execution_count": 60,
   "id": "5cfbda8d",
   "metadata": {},
   "outputs": [],
   "source": [
    "mu1=5 \n",
    "mu2=7\n",
    "sigma1=3\n",
    "sigma2=4\n",
    "conversion_rate= 45   #inr\n",
    "new_mu1=mu1*conversion_rate\n",
    "new_mu2=mu2*conversion_rate\n",
    "new_sigma1=sigma1*conversion_rate\n",
    "new_sigma2=sigma2*conversion_rate\n",
    "\n",
    "\n"
   ]
  },
  {
   "cell_type": "code",
   "execution_count": 61,
   "id": "b740e5f0",
   "metadata": {
    "scrolled": true
   },
   "outputs": [
    {
     "data": {
      "text/plain": [
       "(-39.59513791290732, 489.5951379129073)"
      ]
     },
     "execution_count": 61,
     "metadata": {},
     "output_type": "execute_result"
    }
   ],
   "source": [
    "stats.norm.interval(0.95,new_mu1,new_sigma1)  #A.95% probability for the annual profit of the company 1."
   ]
  },
  {
   "cell_type": "code",
   "execution_count": 64,
   "id": "291c93f5",
   "metadata": {},
   "outputs": [
    {
     "data": {
      "text/plain": [
       "(-37.79351721720974, 667.7935172172097)"
      ]
     },
     "execution_count": 64,
     "metadata": {},
     "output_type": "execute_result"
    }
   ],
   "source": [
    "stats.norm.interval(0.95,new_mu2,new_sigma2)    #A.95% probability for the annual profit of the company 2.   "
   ]
  },
  {
   "cell_type": "code",
   "execution_count": 65,
   "id": "1249fda4",
   "metadata": {},
   "outputs": [
    {
     "data": {
      "text/plain": [
       "2.9447603615511753"
      ]
     },
     "execution_count": 65,
     "metadata": {},
     "output_type": "execute_result"
    }
   ],
   "source": [
    "stats.norm.ppf(0.05,new_mu1,new_sigma1)  #5th percentile of profit of company 1.    "
   ]
  },
  {
   "cell_type": "code",
   "execution_count": 67,
   "id": "bcd486c7",
   "metadata": {},
   "outputs": [
    {
     "data": {
      "text/plain": [
       "18.926347148734862"
      ]
     },
     "execution_count": 67,
     "metadata": {},
     "output_type": "execute_result"
    }
   ],
   "source": [
    "stats.norm.ppf(0.05,new_mu2,new_sigma2)    #5th percentile of profit of company 2 ."
   ]
  },
  {
   "cell_type": "code",
   "execution_count": 70,
   "id": "d171a255",
   "metadata": {},
   "outputs": [
    {
     "data": {
      "text/plain": [
       "0.0477903522728147"
      ]
     },
     "execution_count": 70,
     "metadata": {},
     "output_type": "execute_result"
    }
   ],
   "source": [
    "stats.norm.cdf(0,new_mu1,new_sigma1)   #probability of making a loss in a given year of company 1."
   ]
  },
  {
   "cell_type": "code",
   "execution_count": 71,
   "id": "3990c9a8",
   "metadata": {},
   "outputs": [
    {
     "data": {
      "text/plain": [
       "0.040059156863817086"
      ]
     },
     "execution_count": 71,
     "metadata": {},
     "output_type": "execute_result"
    }
   ],
   "source": [
    "stats.norm.cdf(0,new_mu2,new_sigma2)  #probability of making a loss in a given year of company 2"
   ]
  },
  {
   "cell_type": "code",
   "execution_count": null,
   "id": "357e224d",
   "metadata": {},
   "outputs": [],
   "source": [
    "#company 1 has larger probability of making loss in given year"
   ]
  },
  {
   "cell_type": "markdown",
   "id": "d8c7f1bf",
   "metadata": {},
   "source": [
    "# CBA: Practice Problem Set 2\n",
    "Topics: Sampling Distributions and Central Limit Theorem"
   ]
  },
  {
   "cell_type": "markdown",
   "id": "98be0361",
   "metadata": {},
   "source": [
    "Q3)"
   ]
  },
  {
   "cell_type": "code",
   "execution_count": 18,
   "id": "ba0efdb9",
   "metadata": {},
   "outputs": [
    {
     "name": "stdout",
     "output_type": "stream",
     "text": [
      "The probability of an investigation is: 21.129954733371072\n"
     ]
    }
   ],
   "source": [
    "mu = 50\n",
    "sigma = 40\n",
    "sample_size = 100\n",
    "lower_bound = 45\n",
    "upper_bound = 55\n",
    " \n",
    "standard_error = sigma/ (sample_size ** 0.5)\n",
    "\n",
    "z_lower = (lower_bound - mu) / standard_error\n",
    "z_upper = (upper_bound - mu) / standard_error\n",
    "\n",
    "\n",
    "probability_investigation = stats.norm.cdf(z_lower) + (1 - stats.norm.cdf(z_upper))\n",
    "\n",
    "\n",
    "probability_investigation_percentage = probability_investigation * 100\n",
    "\n",
    "print(\"The probability of an investigation is:\", probability_investigation_percentage)\n"
   ]
  }
 ],
 "metadata": {
  "kernelspec": {
   "display_name": "Python 3 (ipykernel)",
   "language": "python",
   "name": "python3"
  },
  "language_info": {
   "codemirror_mode": {
    "name": "ipython",
    "version": 3
   },
   "file_extension": ".py",
   "mimetype": "text/x-python",
   "name": "python",
   "nbconvert_exporter": "python",
   "pygments_lexer": "ipython3",
   "version": "3.9.13"
  }
 },
 "nbformat": 4,
 "nbformat_minor": 5
}
